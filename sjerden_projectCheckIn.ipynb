{
 "cells": [
  {
   "cell_type": "markdown",
   "id": "ab3206a7-433d-4cb5-8c62-29256b166ba4",
   "metadata": {},
   "source": [
    "# Data Wrangling Project Check-In\n",
    "## Sylvia Jerden 4/27"
   ]
  },
  {
   "cell_type": "code",
   "execution_count": 14,
   "id": "0c35ff15-a5e3-4008-b724-e8e6dcea80cd",
   "metadata": {},
   "outputs": [],
   "source": [
    "import pandas as pd\n",
    "import matplotlib.pyplot as plt\n",
    "import seaborn as sns\n",
    "from scipy.stats import pearsonr"
   ]
  },
  {
   "cell_type": "code",
   "execution_count": 7,
   "id": "66306c03-b1ec-4113-97a2-e942f87f87f3",
   "metadata": {},
   "outputs": [
    {
     "data": {
      "text/html": [
       "<div>\n",
       "<style scoped>\n",
       "    .dataframe tbody tr th:only-of-type {\n",
       "        vertical-align: middle;\n",
       "    }\n",
       "\n",
       "    .dataframe tbody tr th {\n",
       "        vertical-align: top;\n",
       "    }\n",
       "\n",
       "    .dataframe thead th {\n",
       "        text-align: right;\n",
       "    }\n",
       "</style>\n",
       "<table border=\"1\" class=\"dataframe\">\n",
       "  <thead>\n",
       "    <tr style=\"text-align: right;\">\n",
       "      <th></th>\n",
       "      <th>Unnamed: 0.2</th>\n",
       "      <th>Unnamed: 0</th>\n",
       "      <th>brand</th>\n",
       "      <th>model</th>\n",
       "      <th>model_year</th>\n",
       "      <th>fuel_type</th>\n",
       "      <th>engine</th>\n",
       "      <th>transmission</th>\n",
       "      <th>ext_col</th>\n",
       "      <th>int_col</th>\n",
       "      <th>clean_title</th>\n",
       "      <th>price</th>\n",
       "      <th>mileage</th>\n",
       "      <th>accident</th>\n",
       "      <th>Unnamed: 0.1</th>\n",
       "      <th>Drivetrain</th>\n",
       "      <th>MPG</th>\n",
       "      <th>VIN</th>\n",
       "    </tr>\n",
       "  </thead>\n",
       "  <tbody>\n",
       "    <tr>\n",
       "      <th>0</th>\n",
       "      <td>0</td>\n",
       "      <td>0</td>\n",
       "      <td>Ford</td>\n",
       "      <td>Utility Police Interceptor Base</td>\n",
       "      <td>2013</td>\n",
       "      <td>E85 Flex Fuel</td>\n",
       "      <td>300.0HP 3.7L V6 Cylinder Engine Flex Fuel Capa...</td>\n",
       "      <td>6-Speed A/T</td>\n",
       "      <td>Black</td>\n",
       "      <td>Black</td>\n",
       "      <td>Yes</td>\n",
       "      <td>10300</td>\n",
       "      <td>51000</td>\n",
       "      <td>True</td>\n",
       "      <td>NaN</td>\n",
       "      <td>NaN</td>\n",
       "      <td>NaN</td>\n",
       "      <td>NaN</td>\n",
       "    </tr>\n",
       "    <tr>\n",
       "      <th>1</th>\n",
       "      <td>1</td>\n",
       "      <td>1</td>\n",
       "      <td>Hyundai</td>\n",
       "      <td>Palisade SEL</td>\n",
       "      <td>2021</td>\n",
       "      <td>Gasoline</td>\n",
       "      <td>3.8L V6 24V GDI DOHC</td>\n",
       "      <td>8-Speed Automatic</td>\n",
       "      <td>Moonlight Cloud</td>\n",
       "      <td>Gray</td>\n",
       "      <td>Yes</td>\n",
       "      <td>38005</td>\n",
       "      <td>34742</td>\n",
       "      <td>True</td>\n",
       "      <td>NaN</td>\n",
       "      <td>NaN</td>\n",
       "      <td>NaN</td>\n",
       "      <td>NaN</td>\n",
       "    </tr>\n",
       "    <tr>\n",
       "      <th>2</th>\n",
       "      <td>2</td>\n",
       "      <td>2</td>\n",
       "      <td>Lexus</td>\n",
       "      <td>RX 350 RX 350</td>\n",
       "      <td>2022</td>\n",
       "      <td>Gasoline</td>\n",
       "      <td>3.5 Liter DOHC</td>\n",
       "      <td>Automatic</td>\n",
       "      <td>Blue</td>\n",
       "      <td>Black</td>\n",
       "      <td>NaN</td>\n",
       "      <td>54598</td>\n",
       "      <td>22372</td>\n",
       "      <td>False</td>\n",
       "      <td>NaN</td>\n",
       "      <td>NaN</td>\n",
       "      <td>NaN</td>\n",
       "      <td>NaN</td>\n",
       "    </tr>\n",
       "    <tr>\n",
       "      <th>3</th>\n",
       "      <td>3</td>\n",
       "      <td>3</td>\n",
       "      <td>INFINITI</td>\n",
       "      <td>Q50 Hybrid Sport</td>\n",
       "      <td>2015</td>\n",
       "      <td>Hybrid</td>\n",
       "      <td>354.0HP 3.5L V6 Cylinder Engine Gas/Electric H...</td>\n",
       "      <td>7-Speed A/T</td>\n",
       "      <td>Black</td>\n",
       "      <td>Black</td>\n",
       "      <td>Yes</td>\n",
       "      <td>15500</td>\n",
       "      <td>88900</td>\n",
       "      <td>False</td>\n",
       "      <td>NaN</td>\n",
       "      <td>NaN</td>\n",
       "      <td>NaN</td>\n",
       "      <td>NaN</td>\n",
       "    </tr>\n",
       "    <tr>\n",
       "      <th>4</th>\n",
       "      <td>4</td>\n",
       "      <td>4</td>\n",
       "      <td>Audi</td>\n",
       "      <td>Q3 45 S line Premium Plus</td>\n",
       "      <td>2021</td>\n",
       "      <td>Gasoline</td>\n",
       "      <td>2.0L I4 16V GDI DOHC Turbo</td>\n",
       "      <td>8-Speed Automatic</td>\n",
       "      <td>Glacier White Metallic</td>\n",
       "      <td>Black</td>\n",
       "      <td>NaN</td>\n",
       "      <td>34999</td>\n",
       "      <td>9835</td>\n",
       "      <td>False</td>\n",
       "      <td>NaN</td>\n",
       "      <td>NaN</td>\n",
       "      <td>NaN</td>\n",
       "      <td>NaN</td>\n",
       "    </tr>\n",
       "  </tbody>\n",
       "</table>\n",
       "</div>"
      ],
      "text/plain": [
       "   Unnamed: 0.2  Unnamed: 0     brand                            model  \\\n",
       "0             0           0      Ford  Utility Police Interceptor Base   \n",
       "1             1           1   Hyundai                     Palisade SEL   \n",
       "2             2           2     Lexus                    RX 350 RX 350   \n",
       "3             3           3  INFINITI                 Q50 Hybrid Sport   \n",
       "4             4           4      Audi        Q3 45 S line Premium Plus   \n",
       "\n",
       "   model_year      fuel_type  \\\n",
       "0        2013  E85 Flex Fuel   \n",
       "1        2021       Gasoline   \n",
       "2        2022       Gasoline   \n",
       "3        2015         Hybrid   \n",
       "4        2021       Gasoline   \n",
       "\n",
       "                                              engine       transmission  \\\n",
       "0  300.0HP 3.7L V6 Cylinder Engine Flex Fuel Capa...        6-Speed A/T   \n",
       "1                               3.8L V6 24V GDI DOHC  8-Speed Automatic   \n",
       "2                                     3.5 Liter DOHC          Automatic   \n",
       "3  354.0HP 3.5L V6 Cylinder Engine Gas/Electric H...        7-Speed A/T   \n",
       "4                         2.0L I4 16V GDI DOHC Turbo  8-Speed Automatic   \n",
       "\n",
       "                  ext_col int_col clean_title  price  mileage accident  \\\n",
       "0                   Black   Black         Yes  10300    51000     True   \n",
       "1         Moonlight Cloud    Gray         Yes  38005    34742     True   \n",
       "2                    Blue   Black         NaN  54598    22372    False   \n",
       "3                   Black   Black         Yes  15500    88900    False   \n",
       "4  Glacier White Metallic   Black         NaN  34999     9835    False   \n",
       "\n",
       "   Unnamed: 0.1 Drivetrain  MPG  VIN  \n",
       "0           NaN        NaN  NaN  NaN  \n",
       "1           NaN        NaN  NaN  NaN  \n",
       "2           NaN        NaN  NaN  NaN  \n",
       "3           NaN        NaN  NaN  NaN  \n",
       "4           NaN        NaN  NaN  NaN  "
      ]
     },
     "execution_count": 7,
     "metadata": {},
     "output_type": "execute_result"
    }
   ],
   "source": [
    "cars_df = pd.read_csv(\"sjerden_integrated_data_proposal.csv\")\n",
    "cars_df.head()"
   ]
  },
  {
   "cell_type": "code",
   "execution_count": 8,
   "id": "4d8ddfe9-c2fc-4678-9bb9-de0d79325d63",
   "metadata": {},
   "outputs": [],
   "source": [
    "cars_df.drop(['Unnamed: 0.2', 'Unnamed: 0', 'Unnamed: 0.1'], axis=1, inplace=True)"
   ]
  },
  {
   "cell_type": "code",
   "execution_count": 9,
   "id": "1b363c25-0b07-4ec6-8bb1-fcfddb2effda",
   "metadata": {},
   "outputs": [
    {
     "data": {
      "text/html": [
       "<div>\n",
       "<style scoped>\n",
       "    .dataframe tbody tr th:only-of-type {\n",
       "        vertical-align: middle;\n",
       "    }\n",
       "\n",
       "    .dataframe tbody tr th {\n",
       "        vertical-align: top;\n",
       "    }\n",
       "\n",
       "    .dataframe thead th {\n",
       "        text-align: right;\n",
       "    }\n",
       "</style>\n",
       "<table border=\"1\" class=\"dataframe\">\n",
       "  <thead>\n",
       "    <tr style=\"text-align: right;\">\n",
       "      <th></th>\n",
       "      <th>brand</th>\n",
       "      <th>model</th>\n",
       "      <th>model_year</th>\n",
       "      <th>fuel_type</th>\n",
       "      <th>engine</th>\n",
       "      <th>transmission</th>\n",
       "      <th>ext_col</th>\n",
       "      <th>int_col</th>\n",
       "      <th>clean_title</th>\n",
       "      <th>price</th>\n",
       "      <th>mileage</th>\n",
       "      <th>accident</th>\n",
       "      <th>Drivetrain</th>\n",
       "      <th>MPG</th>\n",
       "      <th>VIN</th>\n",
       "    </tr>\n",
       "  </thead>\n",
       "  <tbody>\n",
       "    <tr>\n",
       "      <th>0</th>\n",
       "      <td>Ford</td>\n",
       "      <td>Utility Police Interceptor Base</td>\n",
       "      <td>2013</td>\n",
       "      <td>E85 Flex Fuel</td>\n",
       "      <td>300.0HP 3.7L V6 Cylinder Engine Flex Fuel Capa...</td>\n",
       "      <td>6-Speed A/T</td>\n",
       "      <td>Black</td>\n",
       "      <td>Black</td>\n",
       "      <td>Yes</td>\n",
       "      <td>10300</td>\n",
       "      <td>51000</td>\n",
       "      <td>True</td>\n",
       "      <td>NaN</td>\n",
       "      <td>NaN</td>\n",
       "      <td>NaN</td>\n",
       "    </tr>\n",
       "    <tr>\n",
       "      <th>1</th>\n",
       "      <td>Hyundai</td>\n",
       "      <td>Palisade SEL</td>\n",
       "      <td>2021</td>\n",
       "      <td>Gasoline</td>\n",
       "      <td>3.8L V6 24V GDI DOHC</td>\n",
       "      <td>8-Speed Automatic</td>\n",
       "      <td>Moonlight Cloud</td>\n",
       "      <td>Gray</td>\n",
       "      <td>Yes</td>\n",
       "      <td>38005</td>\n",
       "      <td>34742</td>\n",
       "      <td>True</td>\n",
       "      <td>NaN</td>\n",
       "      <td>NaN</td>\n",
       "      <td>NaN</td>\n",
       "    </tr>\n",
       "    <tr>\n",
       "      <th>2</th>\n",
       "      <td>Lexus</td>\n",
       "      <td>RX 350 RX 350</td>\n",
       "      <td>2022</td>\n",
       "      <td>Gasoline</td>\n",
       "      <td>3.5 Liter DOHC</td>\n",
       "      <td>Automatic</td>\n",
       "      <td>Blue</td>\n",
       "      <td>Black</td>\n",
       "      <td>NaN</td>\n",
       "      <td>54598</td>\n",
       "      <td>22372</td>\n",
       "      <td>False</td>\n",
       "      <td>NaN</td>\n",
       "      <td>NaN</td>\n",
       "      <td>NaN</td>\n",
       "    </tr>\n",
       "    <tr>\n",
       "      <th>3</th>\n",
       "      <td>INFINITI</td>\n",
       "      <td>Q50 Hybrid Sport</td>\n",
       "      <td>2015</td>\n",
       "      <td>Hybrid</td>\n",
       "      <td>354.0HP 3.5L V6 Cylinder Engine Gas/Electric H...</td>\n",
       "      <td>7-Speed A/T</td>\n",
       "      <td>Black</td>\n",
       "      <td>Black</td>\n",
       "      <td>Yes</td>\n",
       "      <td>15500</td>\n",
       "      <td>88900</td>\n",
       "      <td>False</td>\n",
       "      <td>NaN</td>\n",
       "      <td>NaN</td>\n",
       "      <td>NaN</td>\n",
       "    </tr>\n",
       "    <tr>\n",
       "      <th>4</th>\n",
       "      <td>Audi</td>\n",
       "      <td>Q3 45 S line Premium Plus</td>\n",
       "      <td>2021</td>\n",
       "      <td>Gasoline</td>\n",
       "      <td>2.0L I4 16V GDI DOHC Turbo</td>\n",
       "      <td>8-Speed Automatic</td>\n",
       "      <td>Glacier White Metallic</td>\n",
       "      <td>Black</td>\n",
       "      <td>NaN</td>\n",
       "      <td>34999</td>\n",
       "      <td>9835</td>\n",
       "      <td>False</td>\n",
       "      <td>NaN</td>\n",
       "      <td>NaN</td>\n",
       "      <td>NaN</td>\n",
       "    </tr>\n",
       "  </tbody>\n",
       "</table>\n",
       "</div>"
      ],
      "text/plain": [
       "      brand                            model  model_year      fuel_type  \\\n",
       "0      Ford  Utility Police Interceptor Base        2013  E85 Flex Fuel   \n",
       "1   Hyundai                     Palisade SEL        2021       Gasoline   \n",
       "2     Lexus                    RX 350 RX 350        2022       Gasoline   \n",
       "3  INFINITI                 Q50 Hybrid Sport        2015         Hybrid   \n",
       "4      Audi        Q3 45 S line Premium Plus        2021       Gasoline   \n",
       "\n",
       "                                              engine       transmission  \\\n",
       "0  300.0HP 3.7L V6 Cylinder Engine Flex Fuel Capa...        6-Speed A/T   \n",
       "1                               3.8L V6 24V GDI DOHC  8-Speed Automatic   \n",
       "2                                     3.5 Liter DOHC          Automatic   \n",
       "3  354.0HP 3.5L V6 Cylinder Engine Gas/Electric H...        7-Speed A/T   \n",
       "4                         2.0L I4 16V GDI DOHC Turbo  8-Speed Automatic   \n",
       "\n",
       "                  ext_col int_col clean_title  price  mileage accident  \\\n",
       "0                   Black   Black         Yes  10300    51000     True   \n",
       "1         Moonlight Cloud    Gray         Yes  38005    34742     True   \n",
       "2                    Blue   Black         NaN  54598    22372    False   \n",
       "3                   Black   Black         Yes  15500    88900    False   \n",
       "4  Glacier White Metallic   Black         NaN  34999     9835    False   \n",
       "\n",
       "  Drivetrain  MPG  VIN  \n",
       "0        NaN  NaN  NaN  \n",
       "1        NaN  NaN  NaN  \n",
       "2        NaN  NaN  NaN  \n",
       "3        NaN  NaN  NaN  \n",
       "4        NaN  NaN  NaN  "
      ]
     },
     "execution_count": 9,
     "metadata": {},
     "output_type": "execute_result"
    }
   ],
   "source": [
    "cars_df.head()"
   ]
  },
  {
   "cell_type": "code",
   "execution_count": 12,
   "id": "44164263-4f62-4b08-865c-c1ffb0c74613",
   "metadata": {},
   "outputs": [
    {
     "data": {
      "text/plain": [
       "count       4,012\n",
       "mean       44,555\n",
       "std        78,682\n",
       "min         2,000\n",
       "25%        17,200\n",
       "50%        31,000\n",
       "75%        49,991\n",
       "max     2,954,083\n",
       "Name: price, dtype: float64"
      ]
     },
     "execution_count": 12,
     "metadata": {},
     "output_type": "execute_result"
    }
   ],
   "source": [
    "pd.options.display.float_format = '{:,.0f}'.format\n",
    "descriptive = cars_df['price'].describe()\n",
    "descriptive"
   ]
  },
  {
   "cell_type": "markdown",
   "id": "7f20be46-41b0-44df-b663-37f8a3033af8",
   "metadata": {},
   "source": [
    "## Correlation tests"
   ]
  },
  {
   "cell_type": "code",
   "execution_count": 15,
   "id": "51ed2d8d-cb1a-4c90-adf8-a46d9fbeaf0c",
   "metadata": {},
   "outputs": [
    {
     "name": "stdout",
     "output_type": "stream",
     "text": [
      "Pearson Correlation Coefficient: -0.3055\n",
      "P-value: 0.0000\n",
      "Reject H0: Significant correlation exists (correlation != 0).\n"
     ]
    }
   ],
   "source": [
    "# perform the Pearson correlation test\n",
    "corr_stat, p_value = pearsonr(cars_df[\"mileage\"], cars_df[\"price\"])\n",
    "\n",
    "# display the correlation statistic and p-value\n",
    "print(f\"Pearson Correlation Coefficient: {corr_stat:.4f}\")\n",
    "print(f\"P-value: {p_value:.4f}\")\n",
    "\n",
    "# interpretation based on p-value\n",
    "alpha = 0.05  # significance level\n",
    "\n",
    "if p_value > alpha:\n",
    "    print(\"Fail to reject H0: No significant correlation (correlation = 0).\")\n",
    "else:\n",
    "    print(\"Reject H0: Significant correlation exists (correlation != 0).\")"
   ]
  },
  {
   "cell_type": "code",
   "execution_count": 19,
   "id": "2a8a73b0-4670-4d00-8bfb-07a0b02b65fb",
   "metadata": {},
   "outputs": [
    {
     "name": "stdout",
     "output_type": "stream",
     "text": [
      "Pearson Correlation Coefficient: 0.1994\n",
      "P-value: 0.0000\n",
      "Reject H0: Significant correlation exists (correlation != 0).\n"
     ]
    }
   ],
   "source": [
    "# perform the Pearson correlation test\n",
    "corr_stat, p_value = pearsonr(cars_df[\"model_year\"], cars_df[\"price\"])\n",
    "\n",
    "# display the correlation statistic and p-value\n",
    "print(f\"Pearson Correlation Coefficient: {corr_stat:.4f}\")\n",
    "print(f\"P-value: {p_value:.4f}\")\n",
    "\n",
    "# interpretation based on p-value\n",
    "alpha = 0.05  # significance level\n",
    "\n",
    "if p_value > alpha:\n",
    "    print(\"Fail to reject H0: No significant correlation (correlation = 0).\")\n",
    "else:\n",
    "    print(\"Reject H0: Significant correlation exists (correlation != 0).\")"
   ]
  },
  {
   "cell_type": "markdown",
   "id": "570c65f1-2dfc-45d1-9b7f-dbe94bf765aa",
   "metadata": {},
   "source": [
    "## Scatter plots based on data used in correlation tests"
   ]
  },
  {
   "cell_type": "code",
   "execution_count": 22,
   "id": "109fcfd1-fe3f-4e52-ba6a-5ec76a25cabf",
   "metadata": {},
   "outputs": [
    {
     "data": {
      "image/png": "[encoded data removed]",
      "text/plain": [
       "<Figure size 800x600 with 1 Axes>"
      ]
     },
     "metadata": {},
     "output_type": "display_data"
    }
   ],
   "source": [
    "# create the scatter plot with a regression line using Seaborn\n",
    "plt.figure(figsize=(8, 6))\n",
    "sns.regplot(\n",
    "    x=\"model_year\", \n",
    "    y=\"price\", \n",
    "    data=cars_df, \n",
    "    scatter_kws={\"s\": 50},  # adjust size of scatter points\n",
    "    line_kws={\"color\": \"red\"},  # set line color\n",
    ")\n",
    "\n",
    "# add axis labels and title\n",
    "plt.xlabel(\"Model Year\", fontsize=12)\n",
    "plt.ylabel(\"Price\", fontsize=12)\n",
    "plt.title(\"Scatter Plot of Model Year vs. Price\", fontsize=16)\n",
    "\n",
    "# display the plot\n",
    "plt.show()"
   ]
  },
  {
   "cell_type": "code",
   "execution_count": 23,
   "id": "ab1aa3f4-5260-41ce-96d6-c1ccfbb19113",
   "metadata": {},
   "outputs": [
    {
     "data": {
      "image/png": "[encoded data removed]",
      "text/plain": [
       "<Figure size 800x600 with 1 Axes>"
      ]
     },
     "metadata": {},
     "output_type": "display_data"
    }
   ],
   "source": [
    "# create the scatter plot with a regression line using Seaborn\n",
    "plt.figure(figsize=(8, 6))\n",
    "sns.regplot(\n",
    "    x=\"mileage\", \n",
    "    y=\"price\", \n",
    "    data=cars_df, \n",
    "    scatter_kws={\"s\": 50},  # adjust size of scatter points\n",
    "    line_kws={\"color\": \"red\"},  # set line color\n",
    ")\n",
    "\n",
    "# add axis labels and title\n",
    "plt.xlabel(\"Mileage\", fontsize=12)\n",
    "plt.ylabel(\"Price\", fontsize=12)\n",
    "plt.title(\"Scatter Plot of Mileage vs. Price\", fontsize=16)\n",
    "\n",
    "# display the plot\n",
    "plt.show()"
   ]
  },
  {
   "cell_type": "markdown",
   "id": "951610e9-229e-4c49-986e-bd5504146552",
   "metadata": {},
   "source": [
    "## Average prices based on several variables"
   ]
  },
  {
   "cell_type": "code",
   "execution_count": 28,
   "id": "6af68b7e-39f3-4c86-a84c-62ddd70ab247",
   "metadata": {},
   "outputs": [
    {
     "data": {
      "text/plain": [
       "brand\n",
       "smart               5,000\n",
       "Suzuki              6,900\n",
       "Scion               8,832\n",
       "Saab               10,225\n",
       "Saturn             12,379\n",
       "Pontiac            13,573\n",
       "Chrysler           13,813\n",
       "MINI               14,158\n",
       "Mercury            14,233\n",
       "FIAT               14,800\n",
       "Mitsubishi         17,551\n",
       "Hyundai            18,947\n",
       "Hummer             19,618\n",
       "Mazda              20,279\n",
       "Buick              20,358\n",
       "Subaru             21,495\n",
       "Honda              21,959\n",
       "Volkswagen         22,068\n",
       "INFINITI           22,928\n",
       "Nissan             25,905\n",
       "Volvo              26,444\n",
       "Acura              28,034\n",
       "Kia                28,096\n",
       "Lincoln            28,331\n",
       "Plymouth           28,500\n",
       "Toyota             30,162\n",
       "Jeep               31,100\n",
       "Jaguar             32,363\n",
       "Dodge              34,501\n",
       "Lexus              35,669\n",
       "Polestar           35,999\n",
       "Ford               36,241\n",
       "Chevrolet          36,723\n",
       "GMC                37,526\n",
       "Alfa               37,686\n",
       "Audi               39,907\n",
       "BMW                41,072\n",
       "Cadillac           41,671\n",
       "RAM                43,029\n",
       "Genesis            43,280\n",
       "Tesla              48,439\n",
       "Mercedes-Benz      52,062\n",
       "Karma              53,250\n",
       "Lotus              54,812\n",
       "Land               55,764\n",
       "Maybach            64,250\n",
       "Porsche            88,751\n",
       "Rivian             93,138\n",
       "Lucid             101,966\n",
       "Aston             115,200\n",
       "Bentley           137,554\n",
       "Maserati          140,583\n",
       "McLaren           213,458\n",
       "Ferrari           243,791\n",
       "Lamborghini       291,234\n",
       "Rolls-Royce       370,993\n",
       "Bugatti         1,950,995\n",
       "Name: price, dtype: float64"
      ]
     },
     "execution_count": 28,
     "metadata": {},
     "output_type": "execute_result"
    }
   ],
   "source": [
    "average_prices = cars_df.groupby('brand')['price'].mean()\n",
    "average_prices.sort_values(ascending=True)"
   ]
  },
  {
   "cell_type": "code",
   "execution_count": 30,
   "id": "eb550a86-d5ca-4c8c-afa7-98033e91116a",
   "metadata": {},
   "outputs": [
    {
     "data": {
      "text/plain": [
       "model_year\n",
       "1994     7,540\n",
       "1992    11,500\n",
       "1997    11,611\n",
       "1999    12,085\n",
       "1998    12,671\n",
       "2000    13,003\n",
       "2004    13,792\n",
       "2002    14,241\n",
       "2001    14,755\n",
       "2003    16,463\n",
       "2008    18,649\n",
       "2010    18,707\n",
       "2007    18,716\n",
       "2012    19,337\n",
       "2009    21,414\n",
       "1996    22,437\n",
       "1993    22,522\n",
       "2006    22,743\n",
       "2014    24,069\n",
       "1995    25,665\n",
       "2013    26,575\n",
       "2015    30,572\n",
       "2011    35,029\n",
       "2016    36,539\n",
       "2017    40,555\n",
       "2019    50,307\n",
       "2018    50,670\n",
       "2020    58,278\n",
       "2021    65,237\n",
       "2022    68,012\n",
       "2024    80,510\n",
       "2023    86,093\n",
       "2005    87,681\n",
       "1974   115,000\n",
       "Name: price, dtype: float64"
      ]
     },
     "execution_count": 30,
     "metadata": {},
     "output_type": "execute_result"
    }
   ],
   "source": [
    "average_prices_year = cars_df.groupby('model_year')['price'].mean()\n",
    "average_prices_year.sort_values(ascending=True)"
   ]
  },
  {
   "cell_type": "code",
   "execution_count": 36,
   "id": "92b79bca-0888-4371-ba92-df05f7c64f69",
   "metadata": {},
   "outputs": [
    {
     "data": {
      "text/plain": [
       "accident\n",
       "True    28,832\n",
       "False   49,638\n",
       "Name: price, dtype: float64"
      ]
     },
     "execution_count": 36,
     "metadata": {},
     "output_type": "execute_result"
    }
   ],
   "source": [
    "average_accident = cars_df.groupby('accident')['price'].mean()\n",
    "average_accident.sort_values(ascending=True)"
   ]
  },
  {
   "cell_type": "code",
   "execution_count": null,
   "id": "f0d70e1b-7209-4141-8f63-650f4de23cc3",
   "metadata": {},
   "outputs": [],
   "source": [
    "average_accident = cars_df.groupby('accident')['price'].mean()\n",
    "average_accident.sort_values(ascending=True)"
   ]
  },
  {
   "cell_type": "markdown",
   "id": "eab1784a-fb0e-46a9-a62f-748b3b5ab0e6",
   "metadata": {},
   "source": [
    "## Machine learning correlation test"
   ]
  },
  {
   "cell_type": "code",
   "execution_count": 40,
   "id": "fd3ea58f-1a58-4398-87d0-c645a2830934",
   "metadata": {},
   "outputs": [
    {
     "name": "stdout",
     "output_type": "stream",
     "text": [
      "Correlation between model year and mileage: -0.6180188269494342\n"
     ]
    }
   ],
   "source": [
    "# Statistics for Two Continuous Variables\n",
    "# Correlation\n",
    "correlation = cars_df['model_year'].corr(cars_df['mileage'])\n",
    "print(\"Correlation between model year and mileage:\", correlation)"
   ]
  }
 ],
 "metadata": {
  "kernelspec": {
   "display_name": "Python 3 (ipykernel)",
   "language": "python",
   "name": "python3"
  },
  "language_info": {
   "codemirror_mode": {
    "name": "ipython",
    "version": 3
   },
   "file_extension": ".py",
   "mimetype": "text/x-python",
   "name": "python",
   "nbconvert_exporter": "python",
   "pygments_lexer": "ipython3",
   "version": "3.12.7"
  }
 },
 "nbformat": 4,
 "nbformat_minor": 5
}
